{
 "cells": [
  {
   "cell_type": "code",
   "execution_count": 1,
   "metadata": {},
   "outputs": [],
   "source": [
    "import pandas as pd\n",
    "import numpy as np\n",
    "import matplotlib.pyplot as plt\n",
    "import seaborn as sns"
   ]
  },
  {
   "cell_type": "markdown",
   "metadata": {},
   "source": [
    "## Rough-Draft: \n",
    "\n",
    "**Motivating thoughts**: There's a new COVID variant that has been ramping up in South Africa since early August. It's virulent enough and has enough significant mutations present in its spike proteins as to cause the UK to shut down flights incoming from South Africa for the last week or so$^{[1]}$, and the US appears to be following suit$^{[2]}$. Our greatest tool against the spread of COVID has been the development of vaccines that can target the spike protein on a coronavirus. Most of the sufficiently informed population is aware of viral mutations, and we know that if a virus mutates sufficiently, our best vaccines have little hope of being effective. But what are the biggest contributing factors when it comes to providing the opportunity for viral mutation? This question could be asked a thousand different ways. But for today's purposes, I'll ask it in two different ways: \n",
    "\n",
    " - **In countries with low vaccination rates, should we expect to see a higher occurrence of COVID-19 variants? In other words, is there a linear relationship between vaccination rates and COVID-19 variants?** I suspect so.\n",
    " - **Are the numbers of variants present in a population independent of population density?** In other words, does population density have some kind of an effect on the number of variants that we might see in a population? \n",
    "\n",
    "\n",
    "This data is a composite collection pulled from three different sources:\n",
    " - `vaccinations`: This dataset contains information as to the number of vaccinations per country for dates between 2019 and 2021. I will be extracting vaccination data for the month of September from this dataset in order to determine the potential linear relationship between vaccination rates and variants. The full dataset is updated every six hours or so here: https://raw.githubusercontent.com/owid/covid-19-data/master/public/data/vaccinations/vaccinations.csv\n",
    " - `variants` : This data set contains the number of COVID variants present in each country. The dataset that I am using comes from this github page: https://github.com/owid/covid-19-data/blob/master/public/data/variants/covid-variants.csv. The data used to populate this GitHub page comes from CoVariant (see resources).$^{[5]}$. I'll be using this dataset in it's while working through the tests of independence for my second question.</span> \n",
    " - `world_population_by_country` : a simple dataset for estimated populations for every country in the world. Available here: https://worldpopulationreview.com/ \n"
   ]
  },
  {
   "cell_type": "markdown",
   "metadata": {},
   "source": [
    "<br>\n"
   ]
  },
  {
   "cell_type": "markdown",
   "metadata": {},
   "source": [
    "## Test 1:\n",
    "\n",
    "**In countries with low vaccination rates, should we expect to see a higher occurrence of COVID-19 variants? In other words, is there an inverse relationship between vaccination rates and COVID-19 variants?** I suspect so.\n",
    "\n",
    "To try and answer this question, I'll perform a simple linear regression, evaluate the slope and run Student's t-test on $r$, the correlation coefficient, as well as generating a 99% confidence interval for the test statistic.\n",
    "\n",
    "There are a few different ways to calculate vaccination rates, so it's important to note that I'll be calculating vaccination rates as (*the number of people in a country who have received at least one dose of any given vaccine*) $\\div$ (*the total population for the given country in 2021*). I will also only be looking at September of 2021.\n",
    "\n",
    "    \n",
    "$H_0$: There is no relationship between vaccination rates and the numbers of COVID-19 variants for the month of September, thus $r = 0$\n",
    "\n",
    "$H_a$: There is some relationship between vaccination rates and the numbers of COVID-19 variants for the month of September, thus $r \\neq 0$\n",
    "\n",
    "\n",
    "  \n",
    "A simple linear model with a slope and an intercept term will be of the form: $\\vec{y} = \\theta_{0} + \\theta_{1}x_{i}$. Where $\\vec{y}$ and $\\theta$ are some unknown, ideal parameters. Since I like linear algebra, I'll be considering $\\hat{y}$ and $x_i$ to be vectors, and using matrix equations to solve for my optimal values of $\\theta$. \n",
    "\n",
    "I'll want to find some equation of the form $\\mathbb{X}\\theta = \\vec{y}$, but also know that attempting to solve this equation will likely end up with no solution, since there probably is no \"perfect\" parameter of $\\theta$ that can give me $\\vec{y}$. Thankfully, I also know that if $\\mathbb{X}$ is an $m \\times n$ matrix and $\\vec{y} \\in \\mathbb{R}^{m}$, then a least-squares solution of $\\mathbb{X} \\vec{\\theta} = \\vec{y}$  is a $\\hat{\\theta} \\in \\mathbb{R}^n$ s.t. $\\parallel \\vec{y} - \\mathbb{X}\\hat{\\theta} \\parallel \\leq \\parallel \\vec{y} - \\mathbb{X}\\vec{\\theta}\\parallel$. This tells us that if I can find some $\\hat{y}$, s.t. $\\hat{y} = \\mathbb{X}\\hat{\\theta} = proj_{Col(\\mathbb{X})}\\vec{y}$, where $\\hat{y} \\in Col(A)$, and $\\mathbb{X}$ is our design matrix, then I can find a least-squares solution to the equation $\\mathbb{X}\\theta = \\vec{y}$.\n",
    "\n",
    "By the properties of orthogonal projections, we know that $\\hat{y}$ is a vector s.t. $\\vec{y} - \\hat{y}$ is orthogonal to the Col(A), so $\\mathbb{X}^T(\\vec{y} - \\hat{y}) = 0$ (because the dot product of any two vectors that are orthogonal to each other will always be zero). \n",
    "\n",
    "And if $\\mathbb{X}^T(\\vec{y} - \\hat{y}) = 0$, then since $\\hat{y} = \\mathbb{X}\\hat{\\theta}$, \n",
    "\n",
    "$\\mathbb{X}^T(\\vec{y} - \\mathbb{X}\\hat{\\theta}) = 0$, \n",
    "\n",
    "$\\mathbb{X}^T\\vec{y} - \\mathbb{X}^T\\mathbb{X}\\hat{\\theta} = 0$, thus \n",
    "\n",
    "$\\mathbb{X}^T\\mathbb{X}\\hat{\\theta} = \\mathbb{X}^T\\vec{y}$ and from here, we can use back-substitution to solve for the optimal vector entries of theta for my simple linear model $\\vec{y} = \\theta_{0} + \\theta_{1}x_{i}$. \n",
    "\n",
    "I can also check my work by confirming that $\\theta_0 = \\overline{y} + \\theta_1\\overline{x}$ and that $\\theta_1 = r\\frac{S_{y}}{S_{x}}$, which we can derive with a little bit of calculus, optimizing the mean square error of the residuals. The basic calculus to do this can be summarized as follows: \n",
    "\n",
    "$MSE(y,  \\hat{y}) = \\frac{1}{n}\\sum_{i=1}^n (y_{i} - \\hat{y}_i)^{2}$, then this becomes $\\frac{1}{n}\\sum_{i=1}^n (y_{i} - (\\theta_0 + \\theta_{1}x_{i}))^{2}$\n",
    "\n",
    "First--remember: \n",
    " - the formula for the covariance, $COV = r\\theta_{x}\\theta_{y} = \\frac{1}{n}\\sum_{i=1}^{n}(x_{i} - \\overline{x})(y_{i} -\\overline{y})$\n",
    " - the formula for the variance of the x-values is $VAR = \\theta_{x}^2 = \\frac{1}{n}\\sum(x_{i} - \\overline{x})^2$\n",
    "\n",
    "Start by taking the deriviate of $R$ with respect to $\\theta_0$, setting to zero, then solving for $\\theta_0$: \n",
    "\n",
    "$\\frac{\\partial{R}}{\\partial{\\theta_0}} (\\frac{1}{n}\\sum_{i=1}^n (y_{i} - (\\theta_0 + \\theta_{1}x_{i}))^{2}) =  -2 (\\frac{1}{n} \\sum_{i=1}^n (y_{i} - \\theta_0 - \\theta_{1}x_{i}))$\n",
    "\n",
    "$ 0 = \\frac{-2}{n} \\sum_{i=1}^{n} (y_{i} - \\theta_0 - \\theta_{1}x_{i})$\n",
    "\n",
    "$ 0 = \\sum_{i=1}^{n}y_{i} - \\sum_{i=1}^{n}\\theta_0 - \\theta_{1} \\sum_{i=1}^{n}x_{i}$       \n",
    "\n",
    "$ 0 = - n\\theta_0 + \\sum_{i=1}^{n}y_{i} - \\theta_{1} \\sum_{i=1}^{n}x_{i}$ \n",
    "\n",
    "$na = \\sum_{i=1}^{n}y_{i} - \\theta_{1} \\sum_{i=1}^{n}x_{i}$ \n",
    "\n",
    "$a = \\frac{1}{n}\\sum_{i=1}^{n}y_{i} - \\frac{1}{n} \\theta_{1}\\sum_{i=1}^{n}x_{i}$ \n",
    "\n",
    "$ \\therefore \\hat{\\theta_0} = \\overline{y} - \\theta_{1} \\overline{x}$\n",
    "\n",
    "Next, take the derivative of $R$ with respect to $\\theta_{1}$, setting to zero, then solving for $\\theta_{1}$: \n",
    "\n",
    "$\\frac{\\partial{R}}{\\partial{\\theta_{1}}} (\\frac{1}{n}\\sum_{i=1}^n (y_{i} - ((\\overline{y} - \\theta_{1}\\overline{x}) + \\theta_{1}x_{i}))^{2}) = \\frac{\\partial{R}}{\\partial{\\theta_{1}}} (\\frac{1}{n}\\sum_{i=1}^n (y_{i} - \\overline{y} - \\theta_{1}\\overline{x} - \\theta_{1}x_{i})^{2})  = \\frac{\\partial{R}}{\\partial{\\theta_{1}}} (\\frac{1}{n}\\sum_{i=1}^n (y_{i} - \\overline{y} - \\theta_{1}(x_{i} - \\overline{x}))^{2}  = \\frac{-2}{n} \\sum_{i=1}^{n}(y_{i} - \\overline{y} - \\theta_{1}(x_{i} - \\overline{x}))(x_{i} - \\overline{x}) = \\frac{-2}{n} \\sum_{i=1}^{n}(y_{i} - \\overline{y})(x_{i} - \\overline{x}) - (\\theta_{1}(x_{i} - \\overline{x}))(x_{i} - \\overline{x})$\n",
    "\n",
    "$0 = \\sum_{i = 1}^{n}(y_{i} - \\overline{y})(x_{i} - \\overline{x}) - \\theta_{1}\\sum_{i=1}^{n} (x_{i} - \\overline{x})^2$\n",
    "\n",
    "$0 = n(r\\theta_{x}\\theta_{y}) - \\theta_{1}n(\\theta_{x}^2)$\n",
    "\n",
    "$\\theta_{1}n(\\theta_{x}^2) = n(r\\theta_{x}\\theta_{y})$\n",
    "\n",
    "$\\therefore \\theta_{1} = r\\frac{\\theta_{y}}{\\theta_{x}}$\n",
    "\n",
    "Under $H_0$, my **test statistic** will be $t = \\frac{r\\sqrt{n - 1}}{\\sqrt{1 - r^2}}$. \n",
    "\n",
    "To review, in order to find my optimal parameters, $\\theta_0$ and $\\theta_1$, \n",
    " - I'll assemble a design matrix $X$, composed of my independent feature, `vaccination_rates` and a `bias` term.  \n",
    " - Then I'll use the normal equation, $X^{T}X\\theta = X^T\\hat{y}$ which can then be solved to give the optimal parameters for $\\theta$\n",
    " - I'll check my work by minimizing the mean square of the residuals. \n",
    " - I'll perform a Student's t-test along with a 95% confidence interval to determine whether or not there is a linear relationship between vaccination rates and the number of COVID variants found in countries during the month of September."
   ]
  },
  {
   "cell_type": "markdown",
   "metadata": {},
   "source": [
    "<br><br>\n",
    "_______"
   ]
  },
  {
   "cell_type": "markdown",
   "metadata": {},
   "source": [
    "## Test 2:\n",
    "\n",
    "**Are the numbers of variants present in a population independent of population density?** In other words, does population density have some kind of an effect on the number of variants that we might see in a population? \n",
    "    \n",
    "Note: I can imagine that there are myriad other factors that could also contribute to vulnerable populations and higher incidences of COVID variants showing up (for example, poverty, or higher incidences of populations with compromised immune systems), none of which would occur in isolation from each other. But to keep things clear and simple, I wonder if simply the combination of these two factors mentioned above combine to provide higher incidences of COVID variants.\n",
    "    \n",
    "To answer this question, I'll use a $\\chi^2$ test of independence. I will \"discrete-ize\" population density as \"very high\", \"high\", \"medium\", and \"low\".  \n",
    "    \n",
    "$H_0$: The number of variants present in any given country is independent of population density.\n",
    "\n",
    "$H_a$: The number of variants present in any given country is dependent upon population density.\n",
    "\n",
    "The math for this test is a little easier. Organizing the dataframes will probably be a bit of a bear, but I'll cross that bridge when I get there. \n",
    "\n",
    "Essentially, I will compute the expected values, under then null of the probability of the number of variants occurring *and* the population densities (binned into \"very high\", \"high\", \"medium\" and \"low\" rates). \n",
    "\n",
    "\n",
    "**Test statistic** = $\\sum_{i \\times j} (\\frac{(Observed - Expected)^2}{Expected})$\n",
    " - $i$ = number of rows in the table\n",
    " - $j$ = number of columns in the table\n",
    "\n",
    "**Determining the degrees of freedom:**\n",
    " - $df = i \\times j = (i columns - 1)  \\times (j columns - 1) = (i - 1) \\times (j - 1)$\n",
    " \n",
    " \n",
    "NOTE: The expected value for each cell has to be at least 5 in order to use the test for independence. "
   ]
  },
  {
   "cell_type": "markdown",
   "metadata": {},
   "source": [
    "<br><br>\n",
    "_______"
   ]
  },
  {
   "cell_type": "markdown",
   "metadata": {},
   "source": [
    "## Resources: \n",
    " - $[1]$ https://nypost.com/2021/11/26/new-covid-variant-detected-in-south-africa-prompts-uk-travel-ban/\n",
    " - $[2]$ https://www.upi.com/Top_News/US/2021/11/27/state-department-advises-against-travel-south-africa-omicron/3621638049970/\n",
    " - $[3]$ https://www.businessinsider.com/map-most-and-least-vaccinated-counties-in-us-2021-5?op=1\n",
    " - $[4]$ https://www.usnews.com/news/best-states/articles/these-states-have-the-best-covid-19-vaccination-rates\n",
    " - $[5]$ Emma B. Hodcroft. 2021. \"CoVariants: SARS-CoV-2 Mutations and Variants of Interest.\" https://covariants.org/"
   ]
  },
  {
   "cell_type": "markdown",
   "metadata": {},
   "source": [
    "## Loading Up and Organizing the data\n",
    "\n",
    "I'll be pulling from the same datasets for each of the two tests. These data come from a couple of different sources, and as such, need a little processing to get them ready for my purposes. "
   ]
  },
  {
   "cell_type": "code",
   "execution_count": 280,
   "metadata": {},
   "outputs": [],
   "source": [
    "# Loading the datasets\n",
    "\n",
    "# Change the path to match your directories\n",
    "path = \"./\""
   ]
  },
  {
   "cell_type": "code",
   "execution_count": 281,
   "metadata": {},
   "outputs": [
    {
     "data": {
      "text/html": [
       "<div>\n",
       "<style scoped>\n",
       "    .dataframe tbody tr th:only-of-type {\n",
       "        vertical-align: middle;\n",
       "    }\n",
       "\n",
       "    .dataframe tbody tr th {\n",
       "        vertical-align: top;\n",
       "    }\n",
       "\n",
       "    .dataframe thead th {\n",
       "        text-align: right;\n",
       "    }\n",
       "</style>\n",
       "<table border=\"1\" class=\"dataframe\">\n",
       "  <thead>\n",
       "    <tr style=\"text-align: right;\">\n",
       "      <th></th>\n",
       "      <th>location</th>\n",
       "      <th>date</th>\n",
       "      <th>variants</th>\n",
       "    </tr>\n",
       "  </thead>\n",
       "  <tbody>\n",
       "    <tr>\n",
       "      <th>0</th>\n",
       "      <td>Angola</td>\n",
       "      <td>2020-12-21</td>\n",
       "      <td>3</td>\n",
       "    </tr>\n",
       "    <tr>\n",
       "      <th>1</th>\n",
       "      <td>Angola</td>\n",
       "      <td>2021-01-25</td>\n",
       "      <td>6</td>\n",
       "    </tr>\n",
       "    <tr>\n",
       "      <th>2</th>\n",
       "      <td>Angola</td>\n",
       "      <td>2021-02-08</td>\n",
       "      <td>4</td>\n",
       "    </tr>\n",
       "    <tr>\n",
       "      <th>3</th>\n",
       "      <td>Angola</td>\n",
       "      <td>2021-02-22</td>\n",
       "      <td>5</td>\n",
       "    </tr>\n",
       "    <tr>\n",
       "      <th>4</th>\n",
       "      <td>Angola</td>\n",
       "      <td>2021-03-08</td>\n",
       "      <td>4</td>\n",
       "    </tr>\n",
       "    <tr>\n",
       "      <th>...</th>\n",
       "      <td>...</td>\n",
       "      <td>...</td>\n",
       "      <td>...</td>\n",
       "    </tr>\n",
       "    <tr>\n",
       "      <th>2249</th>\n",
       "      <td>Zimbabwe</td>\n",
       "      <td>2021-01-11</td>\n",
       "      <td>2</td>\n",
       "    </tr>\n",
       "    <tr>\n",
       "      <th>2250</th>\n",
       "      <td>Zimbabwe</td>\n",
       "      <td>2021-01-25</td>\n",
       "      <td>2</td>\n",
       "    </tr>\n",
       "    <tr>\n",
       "      <th>2251</th>\n",
       "      <td>Zimbabwe</td>\n",
       "      <td>2021-02-08</td>\n",
       "      <td>1</td>\n",
       "    </tr>\n",
       "    <tr>\n",
       "      <th>2252</th>\n",
       "      <td>Zimbabwe</td>\n",
       "      <td>2021-07-12</td>\n",
       "      <td>1</td>\n",
       "    </tr>\n",
       "    <tr>\n",
       "      <th>2253</th>\n",
       "      <td>Zimbabwe</td>\n",
       "      <td>2021-07-26</td>\n",
       "      <td>1</td>\n",
       "    </tr>\n",
       "  </tbody>\n",
       "</table>\n",
       "<p>2254 rows × 3 columns</p>\n",
       "</div>"
      ],
      "text/plain": [
       "      location        date  variants\n",
       "0       Angola  2020-12-21         3\n",
       "1       Angola  2021-01-25         6\n",
       "2       Angola  2021-02-08         4\n",
       "3       Angola  2021-02-22         5\n",
       "4       Angola  2021-03-08         4\n",
       "...        ...         ...       ...\n",
       "2249  Zimbabwe  2021-01-11         2\n",
       "2250  Zimbabwe  2021-01-25         2\n",
       "2251  Zimbabwe  2021-02-08         1\n",
       "2252  Zimbabwe  2021-07-12         1\n",
       "2253  Zimbabwe  2021-07-26         1\n",
       "\n",
       "[2254 rows x 3 columns]"
      ]
     },
     "execution_count": 281,
     "metadata": {},
     "output_type": "execute_result"
    }
   ],
   "source": [
    "# Starting with the variants data\n",
    "variants = pd.read_csv(path + \"covid-variants.csv\").sort_values('location')\n",
    "variants\n",
    "\n",
    "# According to the logs for the `variants` dataset, we should be sure to exclude the 'non_who' variant category in order to \n",
    "# avoid double-counting. Filtering those out now.\n",
    "variants_semi_cleaned = variants.loc[variants['variant'] != 'non_who']\n",
    "len(variants_semi_cleaned) != len(variants)\n",
    "\n",
    "# Next, although it is interesting to see the different names and labels given to each variant, I don't need that data. \n",
    "# I need to know how many variants are present in a given country at a given time. \n",
    "pd.set_option('display.max_colwidth', None)\n",
    "variants_cleaned = variants_semi_cleaned.sort_values('variant').loc[variants_semi_cleaned['perc_sequences'] != 0].groupby(['location', 'date'], as_index=False).agg({'variant': 'size'})\n",
    "variants_cleaned.rename(columns={'variant': 'variants'}, inplace=True)\n",
    "variants_cleaned"
   ]
  },
  {
   "cell_type": "code",
   "execution_count": 282,
   "metadata": {},
   "outputs": [
    {
     "data": {
      "text/html": [
       "<div>\n",
       "<style scoped>\n",
       "    .dataframe tbody tr th:only-of-type {\n",
       "        vertical-align: middle;\n",
       "    }\n",
       "\n",
       "    .dataframe tbody tr th {\n",
       "        vertical-align: top;\n",
       "    }\n",
       "\n",
       "    .dataframe thead th {\n",
       "        text-align: right;\n",
       "    }\n",
       "</style>\n",
       "<table border=\"1\" class=\"dataframe\">\n",
       "  <thead>\n",
       "    <tr style=\"text-align: right;\">\n",
       "      <th></th>\n",
       "      <th>location</th>\n",
       "      <th>date</th>\n",
       "      <th>year</th>\n",
       "      <th>month</th>\n",
       "      <th>people_vaccinated</th>\n",
       "    </tr>\n",
       "  </thead>\n",
       "  <tbody>\n",
       "    <tr>\n",
       "      <th>220</th>\n",
       "      <td>Afghanistan</td>\n",
       "      <td>2021-09-30</td>\n",
       "      <td>2021</td>\n",
       "      <td>09</td>\n",
       "      <td>828601.0</td>\n",
       "    </tr>\n",
       "    <tr>\n",
       "      <th>828</th>\n",
       "      <td>Albania</td>\n",
       "      <td>2021-09-01</td>\n",
       "      <td>2021</td>\n",
       "      <td>09</td>\n",
       "      <td>836613.0</td>\n",
       "    </tr>\n",
       "    <tr>\n",
       "      <th>829</th>\n",
       "      <td>Albania</td>\n",
       "      <td>2021-09-02</td>\n",
       "      <td>2021</td>\n",
       "      <td>09</td>\n",
       "      <td>844304.0</td>\n",
       "    </tr>\n",
       "    <tr>\n",
       "      <th>833</th>\n",
       "      <td>Albania</td>\n",
       "      <td>2021-09-06</td>\n",
       "      <td>2021</td>\n",
       "      <td>09</td>\n",
       "      <td>865281.0</td>\n",
       "    </tr>\n",
       "    <tr>\n",
       "      <th>834</th>\n",
       "      <td>Albania</td>\n",
       "      <td>2021-09-07</td>\n",
       "      <td>2021</td>\n",
       "      <td>09</td>\n",
       "      <td>872116.0</td>\n",
       "    </tr>\n",
       "    <tr>\n",
       "      <th>...</th>\n",
       "      <td>...</td>\n",
       "      <td>...</td>\n",
       "      <td>...</td>\n",
       "      <td>...</td>\n",
       "      <td>...</td>\n",
       "    </tr>\n",
       "    <tr>\n",
       "      <th>64187</th>\n",
       "      <td>Zimbabwe</td>\n",
       "      <td>2021-09-26</td>\n",
       "      <td>2021</td>\n",
       "      <td>09</td>\n",
       "      <td>3027050.0</td>\n",
       "    </tr>\n",
       "    <tr>\n",
       "      <th>64188</th>\n",
       "      <td>Zimbabwe</td>\n",
       "      <td>2021-09-27</td>\n",
       "      <td>2021</td>\n",
       "      <td>09</td>\n",
       "      <td>3041408.0</td>\n",
       "    </tr>\n",
       "    <tr>\n",
       "      <th>64189</th>\n",
       "      <td>Zimbabwe</td>\n",
       "      <td>2021-09-28</td>\n",
       "      <td>2021</td>\n",
       "      <td>09</td>\n",
       "      <td>3050513.0</td>\n",
       "    </tr>\n",
       "    <tr>\n",
       "      <th>64190</th>\n",
       "      <td>Zimbabwe</td>\n",
       "      <td>2021-09-29</td>\n",
       "      <td>2021</td>\n",
       "      <td>09</td>\n",
       "      <td>3062070.0</td>\n",
       "    </tr>\n",
       "    <tr>\n",
       "      <th>64191</th>\n",
       "      <td>Zimbabwe</td>\n",
       "      <td>2021-09-30</td>\n",
       "      <td>2021</td>\n",
       "      <td>09</td>\n",
       "      <td>3074191.0</td>\n",
       "    </tr>\n",
       "  </tbody>\n",
       "</table>\n",
       "<p>3288 rows × 5 columns</p>\n",
       "</div>"
      ],
      "text/plain": [
       "          location        date  year month  people_vaccinated\n",
       "220    Afghanistan  2021-09-30  2021    09           828601.0\n",
       "828        Albania  2021-09-01  2021    09           836613.0\n",
       "829        Albania  2021-09-02  2021    09           844304.0\n",
       "833        Albania  2021-09-06  2021    09           865281.0\n",
       "834        Albania  2021-09-07  2021    09           872116.0\n",
       "...            ...         ...   ...   ...                ...\n",
       "64187     Zimbabwe  2021-09-26  2021    09          3027050.0\n",
       "64188     Zimbabwe  2021-09-27  2021    09          3041408.0\n",
       "64189     Zimbabwe  2021-09-28  2021    09          3050513.0\n",
       "64190     Zimbabwe  2021-09-29  2021    09          3062070.0\n",
       "64191     Zimbabwe  2021-09-30  2021    09          3074191.0\n",
       "\n",
       "[3288 rows x 5 columns]"
      ]
     },
     "execution_count": 282,
     "metadata": {},
     "output_type": "execute_result"
    }
   ],
   "source": [
    "# Working on the vaccinations data next\n",
    "vaccinations = pd.read_csv(path + \"vaccinations.csv\")\n",
    "vaccinations['year'] = vaccinations['date'].str[0:4]\n",
    "vaccinations['month'] = vaccinations['date'].str[5:7]\n",
    "vaccinations\n",
    "\n",
    "# Getting rid of continental data \n",
    "vaccinations = vaccinations.loc[~vaccinations['location'].isin(['Africa', 'Europe', 'World', 'North America', 'South America', 'Asia', 'Upper middle income'])]\n",
    "\n",
    "# I only care about the month of September\n",
    "september_vaccinations = vaccinations.loc[vaccinations['month'] == '09']\n",
    "september_vaccinations\n",
    "\n",
    "# Selecting only the columns that will be most useful and dropping any individual observations with NaNs\n",
    "september_vax = september_vaccinations[['location', 'date', 'year', 'month', 'people_vaccinated']].dropna().sort_values(['location', 'date'])\n",
    "september_vax"
   ]
  },
  {
   "cell_type": "code",
   "execution_count": 283,
   "metadata": {},
   "outputs": [
    {
     "data": {
      "text/html": [
       "<div>\n",
       "<style scoped>\n",
       "    .dataframe tbody tr th:only-of-type {\n",
       "        vertical-align: middle;\n",
       "    }\n",
       "\n",
       "    .dataframe tbody tr th {\n",
       "        vertical-align: top;\n",
       "    }\n",
       "\n",
       "    .dataframe thead th {\n",
       "        text-align: right;\n",
       "    }\n",
       "</style>\n",
       "<table border=\"1\" class=\"dataframe\">\n",
       "  <thead>\n",
       "    <tr style=\"text-align: right;\">\n",
       "      <th></th>\n",
       "      <th>name</th>\n",
       "      <th>pop2021</th>\n",
       "      <th>area</th>\n",
       "      <th>density2021</th>\n",
       "    </tr>\n",
       "  </thead>\n",
       "  <tbody>\n",
       "    <tr>\n",
       "      <th>36</th>\n",
       "      <td>Afghanistan</td>\n",
       "      <td>39835428.0</td>\n",
       "      <td>652230</td>\n",
       "      <td>0.016373</td>\n",
       "    </tr>\n",
       "    <tr>\n",
       "      <th>139</th>\n",
       "      <td>Albania</td>\n",
       "      <td>2872933.0</td>\n",
       "      <td>28748</td>\n",
       "      <td>0.010006</td>\n",
       "    </tr>\n",
       "    <tr>\n",
       "      <th>33</th>\n",
       "      <td>Algeria</td>\n",
       "      <td>44616624.0</td>\n",
       "      <td>2381741</td>\n",
       "      <td>0.053382</td>\n",
       "    </tr>\n",
       "    <tr>\n",
       "      <th>208</th>\n",
       "      <td>American Samoa</td>\n",
       "      <td>55100.0</td>\n",
       "      <td>199</td>\n",
       "      <td>0.003612</td>\n",
       "    </tr>\n",
       "    <tr>\n",
       "      <th>201</th>\n",
       "      <td>Andorra</td>\n",
       "      <td>77355.0</td>\n",
       "      <td>468</td>\n",
       "      <td>0.006050</td>\n",
       "    </tr>\n",
       "    <tr>\n",
       "      <th>...</th>\n",
       "      <td>...</td>\n",
       "      <td>...</td>\n",
       "      <td>...</td>\n",
       "      <td>...</td>\n",
       "    </tr>\n",
       "    <tr>\n",
       "      <th>223</th>\n",
       "      <td>Wallis and Futuna</td>\n",
       "      <td>11094.0</td>\n",
       "      <td>142</td>\n",
       "      <td>0.012800</td>\n",
       "    </tr>\n",
       "    <tr>\n",
       "      <th>169</th>\n",
       "      <td>Western Sahara</td>\n",
       "      <td>611875.0</td>\n",
       "      <td>266000</td>\n",
       "      <td>0.434729</td>\n",
       "    </tr>\n",
       "    <tr>\n",
       "      <th>47</th>\n",
       "      <td>Yemen</td>\n",
       "      <td>30490640.0</td>\n",
       "      <td>527968</td>\n",
       "      <td>0.017316</td>\n",
       "    </tr>\n",
       "    <tr>\n",
       "      <th>64</th>\n",
       "      <td>Zambia</td>\n",
       "      <td>18920651.0</td>\n",
       "      <td>752612</td>\n",
       "      <td>0.039777</td>\n",
       "    </tr>\n",
       "    <tr>\n",
       "      <th>73</th>\n",
       "      <td>Zimbabwe</td>\n",
       "      <td>15092171.0</td>\n",
       "      <td>390757</td>\n",
       "      <td>0.025891</td>\n",
       "    </tr>\n",
       "  </tbody>\n",
       "</table>\n",
       "<p>232 rows × 4 columns</p>\n",
       "</div>"
      ],
      "text/plain": [
       "                  name     pop2021     area  density2021\n",
       "36         Afghanistan  39835428.0   652230     0.016373\n",
       "139            Albania   2872933.0    28748     0.010006\n",
       "33             Algeria  44616624.0  2381741     0.053382\n",
       "208     American Samoa     55100.0      199     0.003612\n",
       "201            Andorra     77355.0      468     0.006050\n",
       "..                 ...         ...      ...          ...\n",
       "223  Wallis and Futuna     11094.0      142     0.012800\n",
       "169     Western Sahara    611875.0   266000     0.434729\n",
       "47               Yemen  30490640.0   527968     0.017316\n",
       "64              Zambia  18920651.0   752612     0.039777\n",
       "73            Zimbabwe  15092171.0   390757     0.025891\n",
       "\n",
       "[232 rows x 4 columns]"
      ]
     },
     "execution_count": 283,
     "metadata": {},
     "output_type": "execute_result"
    }
   ],
   "source": [
    "# Getting the populations for each country next\n",
    "\n",
    "world_population_by_country = pd.read_csv(path + 'world_population_2019.csv').sort_values('name')\n",
    "\n",
    "# These data for populations are in millions. Converting them now just for clarity\n",
    "for column in world_population_by_country.columns: \n",
    "    if 'pop20' in column: \n",
    "        world_population_by_country[column] = world_population_by_country[column] * 1_000\n",
    "\n",
    "# Not sure what values the 'Density' column are based off of, so creating my own column to work off of for the year I'm interested in\n",
    "world_population_by_country['density2021'] = world_population_by_country['area'] / world_population_by_country['pop2021']\n",
    "world_population_by_country\n",
    "\n",
    "# Once again, I only care about September 2021, and population density for that year\n",
    "# so I'm going to get rid of the other columns via the creation of a new dataframe\n",
    "population_params = world_population_by_country[['name', 'pop2021', 'area', 'density2021']]\n",
    "population_params"
   ]
  },
  {
   "cell_type": "markdown",
   "metadata": {},
   "source": [
    "After cleaning and simplifying my data, I'm left with three \"meta\" dataframes that I'll be merging together to create my final working dataframe. \n",
    " - `variants_cleaned` is a new dataframe, composed of the total numbers of variants present in a given country on a given date.\n",
    " - `september_vax` which is composed of the daily vaccine counts for the month of September for all countries. \n",
    " - `population_params`, which is composed of some useful population information, per country. \n",
    " \n",
    "Finally, I think it's time to merge them all together to get one big, useful dataframe. "
   ]
  },
  {
   "cell_type": "code",
   "execution_count": 236,
   "metadata": {},
   "outputs": [
    {
     "data": {
      "text/html": [
       "<div>\n",
       "<style scoped>\n",
       "    .dataframe tbody tr th:only-of-type {\n",
       "        vertical-align: middle;\n",
       "    }\n",
       "\n",
       "    .dataframe tbody tr th {\n",
       "        vertical-align: top;\n",
       "    }\n",
       "\n",
       "    .dataframe thead th {\n",
       "        text-align: right;\n",
       "    }\n",
       "</style>\n",
       "<table border=\"1\" class=\"dataframe\">\n",
       "  <thead>\n",
       "    <tr style=\"text-align: right;\">\n",
       "      <th></th>\n",
       "      <th>location</th>\n",
       "      <th>date</th>\n",
       "      <th>variants</th>\n",
       "    </tr>\n",
       "  </thead>\n",
       "  <tbody>\n",
       "    <tr>\n",
       "      <th>0</th>\n",
       "      <td>Angola</td>\n",
       "      <td>2020-12-21</td>\n",
       "      <td>3</td>\n",
       "    </tr>\n",
       "    <tr>\n",
       "      <th>1</th>\n",
       "      <td>Angola</td>\n",
       "      <td>2021-01-25</td>\n",
       "      <td>6</td>\n",
       "    </tr>\n",
       "  </tbody>\n",
       "</table>\n",
       "</div>"
      ],
      "text/plain": [
       "  location        date  variants\n",
       "0   Angola  2020-12-21         3\n",
       "1   Angola  2021-01-25         6"
      ]
     },
     "metadata": {},
     "output_type": "display_data"
    },
    {
     "data": {
      "text/html": [
       "<div>\n",
       "<style scoped>\n",
       "    .dataframe tbody tr th:only-of-type {\n",
       "        vertical-align: middle;\n",
       "    }\n",
       "\n",
       "    .dataframe tbody tr th {\n",
       "        vertical-align: top;\n",
       "    }\n",
       "\n",
       "    .dataframe thead th {\n",
       "        text-align: right;\n",
       "    }\n",
       "</style>\n",
       "<table border=\"1\" class=\"dataframe\">\n",
       "  <thead>\n",
       "    <tr style=\"text-align: right;\">\n",
       "      <th></th>\n",
       "      <th>location</th>\n",
       "      <th>date</th>\n",
       "      <th>year</th>\n",
       "      <th>month</th>\n",
       "      <th>people_vaccinated</th>\n",
       "    </tr>\n",
       "  </thead>\n",
       "  <tbody>\n",
       "    <tr>\n",
       "      <th>220</th>\n",
       "      <td>Afghanistan</td>\n",
       "      <td>2021-09-30</td>\n",
       "      <td>2021</td>\n",
       "      <td>09</td>\n",
       "      <td>828601.0</td>\n",
       "    </tr>\n",
       "    <tr>\n",
       "      <th>828</th>\n",
       "      <td>Albania</td>\n",
       "      <td>2021-09-01</td>\n",
       "      <td>2021</td>\n",
       "      <td>09</td>\n",
       "      <td>836613.0</td>\n",
       "    </tr>\n",
       "  </tbody>\n",
       "</table>\n",
       "</div>"
      ],
      "text/plain": [
       "        location        date  year month  people_vaccinated\n",
       "220  Afghanistan  2021-09-30  2021    09           828601.0\n",
       "828      Albania  2021-09-01  2021    09           836613.0"
      ]
     },
     "metadata": {},
     "output_type": "display_data"
    },
    {
     "data": {
      "text/html": [
       "<div>\n",
       "<style scoped>\n",
       "    .dataframe tbody tr th:only-of-type {\n",
       "        vertical-align: middle;\n",
       "    }\n",
       "\n",
       "    .dataframe tbody tr th {\n",
       "        vertical-align: top;\n",
       "    }\n",
       "\n",
       "    .dataframe thead th {\n",
       "        text-align: right;\n",
       "    }\n",
       "</style>\n",
       "<table border=\"1\" class=\"dataframe\">\n",
       "  <thead>\n",
       "    <tr style=\"text-align: right;\">\n",
       "      <th></th>\n",
       "      <th>name</th>\n",
       "      <th>pop2021</th>\n",
       "      <th>area</th>\n",
       "      <th>density2021</th>\n",
       "    </tr>\n",
       "  </thead>\n",
       "  <tbody>\n",
       "    <tr>\n",
       "      <th>36</th>\n",
       "      <td>Afghanistan</td>\n",
       "      <td>39835428.0</td>\n",
       "      <td>652230</td>\n",
       "      <td>0.016373</td>\n",
       "    </tr>\n",
       "    <tr>\n",
       "      <th>139</th>\n",
       "      <td>Albania</td>\n",
       "      <td>2872933.0</td>\n",
       "      <td>28748</td>\n",
       "      <td>0.010006</td>\n",
       "    </tr>\n",
       "  </tbody>\n",
       "</table>\n",
       "</div>"
      ],
      "text/plain": [
       "            name     pop2021    area  density2021\n",
       "36   Afghanistan  39835428.0  652230     0.016373\n",
       "139      Albania   2872933.0   28748     0.010006"
      ]
     },
     "metadata": {},
     "output_type": "display_data"
    }
   ],
   "source": [
    "display(variants_cleaned.head(2), september_vax.head(2), population_params.head(2))"
   ]
  },
  {
   "cell_type": "code",
   "execution_count": 237,
   "metadata": {},
   "outputs": [
    {
     "data": {
      "text/html": [
       "<div>\n",
       "<style scoped>\n",
       "    .dataframe tbody tr th:only-of-type {\n",
       "        vertical-align: middle;\n",
       "    }\n",
       "\n",
       "    .dataframe tbody tr th {\n",
       "        vertical-align: top;\n",
       "    }\n",
       "\n",
       "    .dataframe thead th {\n",
       "        text-align: right;\n",
       "    }\n",
       "</style>\n",
       "<table border=\"1\" class=\"dataframe\">\n",
       "  <thead>\n",
       "    <tr style=\"text-align: right;\">\n",
       "      <th></th>\n",
       "      <th>location</th>\n",
       "      <th>date</th>\n",
       "      <th>variants</th>\n",
       "      <th>year</th>\n",
       "      <th>month</th>\n",
       "      <th>people_vaccinated</th>\n",
       "    </tr>\n",
       "  </thead>\n",
       "  <tbody>\n",
       "    <tr>\n",
       "      <th>47</th>\n",
       "      <td>Argentina</td>\n",
       "      <td>2021-09-06</td>\n",
       "      <td>6</td>\n",
       "      <td>2021</td>\n",
       "      <td>09</td>\n",
       "      <td>28344998.0</td>\n",
       "    </tr>\n",
       "    <tr>\n",
       "      <th>48</th>\n",
       "      <td>Argentina</td>\n",
       "      <td>2021-09-20</td>\n",
       "      <td>3</td>\n",
       "      <td>2021</td>\n",
       "      <td>09</td>\n",
       "      <td>29032591.0</td>\n",
       "    </tr>\n",
       "    <tr>\n",
       "      <th>63</th>\n",
       "      <td>Aruba</td>\n",
       "      <td>2021-09-06</td>\n",
       "      <td>2</td>\n",
       "      <td>2021</td>\n",
       "      <td>09</td>\n",
       "      <td>79209.0</td>\n",
       "    </tr>\n",
       "    <tr>\n",
       "      <th>64</th>\n",
       "      <td>Aruba</td>\n",
       "      <td>2021-09-20</td>\n",
       "      <td>1</td>\n",
       "      <td>2021</td>\n",
       "      <td>09</td>\n",
       "      <td>80707.0</td>\n",
       "    </tr>\n",
       "    <tr>\n",
       "      <th>102</th>\n",
       "      <td>Australia</td>\n",
       "      <td>2021-09-06</td>\n",
       "      <td>3</td>\n",
       "      <td>2021</td>\n",
       "      <td>09</td>\n",
       "      <td>13160225.0</td>\n",
       "    </tr>\n",
       "    <tr>\n",
       "      <th>...</th>\n",
       "      <td>...</td>\n",
       "      <td>...</td>\n",
       "      <td>...</td>\n",
       "      <td>...</td>\n",
       "      <td>...</td>\n",
       "      <td>...</td>\n",
       "    </tr>\n",
       "    <tr>\n",
       "      <th>2173</th>\n",
       "      <td>United Kingdom</td>\n",
       "      <td>2021-09-20</td>\n",
       "      <td>2</td>\n",
       "      <td>2021</td>\n",
       "      <td>09</td>\n",
       "      <td>48604764.0</td>\n",
       "    </tr>\n",
       "    <tr>\n",
       "      <th>2214</th>\n",
       "      <td>United States</td>\n",
       "      <td>2021-09-06</td>\n",
       "      <td>6</td>\n",
       "      <td>2021</td>\n",
       "      <td>09</td>\n",
       "      <td>208430319.0</td>\n",
       "    </tr>\n",
       "    <tr>\n",
       "      <th>2215</th>\n",
       "      <td>United States</td>\n",
       "      <td>2021-09-20</td>\n",
       "      <td>7</td>\n",
       "      <td>2021</td>\n",
       "      <td>09</td>\n",
       "      <td>212586241.0</td>\n",
       "    </tr>\n",
       "    <tr>\n",
       "      <th>2232</th>\n",
       "      <td>Vietnam</td>\n",
       "      <td>2021-09-06</td>\n",
       "      <td>1</td>\n",
       "      <td>2021</td>\n",
       "      <td>09</td>\n",
       "      <td>19231238.0</td>\n",
       "    </tr>\n",
       "    <tr>\n",
       "      <th>2233</th>\n",
       "      <td>Vietnam</td>\n",
       "      <td>2021-09-20</td>\n",
       "      <td>1</td>\n",
       "      <td>2021</td>\n",
       "      <td>09</td>\n",
       "      <td>28288007.0</td>\n",
       "    </tr>\n",
       "  </tbody>\n",
       "</table>\n",
       "<p>117 rows × 6 columns</p>\n",
       "</div>"
      ],
      "text/plain": [
       "            location        date  variants  year month  people_vaccinated\n",
       "47         Argentina  2021-09-06         6  2021    09         28344998.0\n",
       "48         Argentina  2021-09-20         3  2021    09         29032591.0\n",
       "63             Aruba  2021-09-06         2  2021    09            79209.0\n",
       "64             Aruba  2021-09-20         1  2021    09            80707.0\n",
       "102        Australia  2021-09-06         3  2021    09         13160225.0\n",
       "...              ...         ...       ...   ...   ...                ...\n",
       "2173  United Kingdom  2021-09-20         2  2021    09         48604764.0\n",
       "2214   United States  2021-09-06         6  2021    09        208430319.0\n",
       "2215   United States  2021-09-20         7  2021    09        212586241.0\n",
       "2232         Vietnam  2021-09-06         1  2021    09         19231238.0\n",
       "2233         Vietnam  2021-09-20         1  2021    09         28288007.0\n",
       "\n",
       "[117 rows x 6 columns]"
      ]
     },
     "execution_count": 237,
     "metadata": {},
     "output_type": "execute_result"
    }
   ],
   "source": [
    "# Performing the first merge\n",
    "september_variants_and_vaccinations = (pd.merge(variants_cleaned, september_vax, how='left', left_on=['location', 'date'], right_on=['location', 'date'])\n",
    "                             .sort_values(['location', 'date']).dropna())\n",
    "september_variants_and_vaccinations"
   ]
  },
  {
   "cell_type": "code",
   "execution_count": 255,
   "metadata": {},
   "outputs": [
    {
     "data": {
      "text/html": [
       "<div>\n",
       "<style scoped>\n",
       "    .dataframe tbody tr th:only-of-type {\n",
       "        vertical-align: middle;\n",
       "    }\n",
       "\n",
       "    .dataframe tbody tr th {\n",
       "        vertical-align: top;\n",
       "    }\n",
       "\n",
       "    .dataframe thead th {\n",
       "        text-align: right;\n",
       "    }\n",
       "</style>\n",
       "<table border=\"1\" class=\"dataframe\">\n",
       "  <thead>\n",
       "    <tr style=\"text-align: right;\">\n",
       "      <th></th>\n",
       "      <th>location</th>\n",
       "      <th>variants</th>\n",
       "      <th>density2021</th>\n",
       "      <th>vaccination_rate</th>\n",
       "    </tr>\n",
       "  </thead>\n",
       "  <tbody>\n",
       "    <tr>\n",
       "      <th>0</th>\n",
       "      <td>Argentina</td>\n",
       "      <td>4.5</td>\n",
       "      <td>0.060966</td>\n",
       "      <td>0.629060</td>\n",
       "    </tr>\n",
       "    <tr>\n",
       "      <th>1</th>\n",
       "      <td>Aruba</td>\n",
       "      <td>1.5</td>\n",
       "      <td>0.001679</td>\n",
       "      <td>0.745849</td>\n",
       "    </tr>\n",
       "    <tr>\n",
       "      <th>2</th>\n",
       "      <td>Australia</td>\n",
       "      <td>2.0</td>\n",
       "      <td>0.298277</td>\n",
       "      <td>0.550100</td>\n",
       "    </tr>\n",
       "    <tr>\n",
       "      <th>3</th>\n",
       "      <td>Austria</td>\n",
       "      <td>2.0</td>\n",
       "      <td>0.009275</td>\n",
       "      <td>0.621353</td>\n",
       "    </tr>\n",
       "    <tr>\n",
       "      <th>4</th>\n",
       "      <td>Bahrain</td>\n",
       "      <td>1.0</td>\n",
       "      <td>0.000438</td>\n",
       "      <td>0.658950</td>\n",
       "    </tr>\n",
       "    <tr>\n",
       "      <th>...</th>\n",
       "      <td>...</td>\n",
       "      <td>...</td>\n",
       "      <td>...</td>\n",
       "      <td>...</td>\n",
       "    </tr>\n",
       "    <tr>\n",
       "      <th>62</th>\n",
       "      <td>Turkey</td>\n",
       "      <td>1.5</td>\n",
       "      <td>0.009214</td>\n",
       "      <td>0.604235</td>\n",
       "    </tr>\n",
       "    <tr>\n",
       "      <th>63</th>\n",
       "      <td>Ukraine</td>\n",
       "      <td>1.0</td>\n",
       "      <td>0.013884</td>\n",
       "      <td>0.146478</td>\n",
       "    </tr>\n",
       "    <tr>\n",
       "      <th>64</th>\n",
       "      <td>United Kingdom</td>\n",
       "      <td>2.5</td>\n",
       "      <td>0.003561</td>\n",
       "      <td>0.710319</td>\n",
       "    </tr>\n",
       "    <tr>\n",
       "      <th>65</th>\n",
       "      <td>United States</td>\n",
       "      <td>6.5</td>\n",
       "      <td>0.028153</td>\n",
       "      <td>0.632318</td>\n",
       "    </tr>\n",
       "    <tr>\n",
       "      <th>66</th>\n",
       "      <td>Vietnam</td>\n",
       "      <td>1.0</td>\n",
       "      <td>0.003374</td>\n",
       "      <td>0.242028</td>\n",
       "    </tr>\n",
       "  </tbody>\n",
       "</table>\n",
       "<p>67 rows × 4 columns</p>\n",
       "</div>"
      ],
      "text/plain": [
       "          location  variants  density2021  vaccination_rate\n",
       "0        Argentina       4.5     0.060966          0.629060\n",
       "1            Aruba       1.5     0.001679          0.745849\n",
       "2        Australia       2.0     0.298277          0.550100\n",
       "3          Austria       2.0     0.009275          0.621353\n",
       "4          Bahrain       1.0     0.000438          0.658950\n",
       "..             ...       ...          ...               ...\n",
       "62          Turkey       1.5     0.009214          0.604235\n",
       "63         Ukraine       1.0     0.013884          0.146478\n",
       "64  United Kingdom       2.5     0.003561          0.710319\n",
       "65   United States       6.5     0.028153          0.632318\n",
       "66         Vietnam       1.0     0.003374          0.242028\n",
       "\n",
       "[67 rows x 4 columns]"
      ]
     },
     "execution_count": 255,
     "metadata": {},
     "output_type": "execute_result"
    }
   ],
   "source": [
    "# Allllmost done\n",
    "sep_variants_vaccines_populations = pd.merge(september_variants_and_vaccinations, population_params, how='left', left_on=['location'], right_on=['name']).filter(['location', 'date', 'variants', 'people_vaccinated', 'pop2021', 'density2021'])\n",
    "sep_variants_vaccines_populations[\"vaccination_rate\"] = sep_variants_vaccines_populations['people_vaccinated'] / sep_variants_vaccines_populations['pop2021']\n",
    "sep_variants_vaccines_populations"
   ]
  },
  {
   "cell_type": "code",
   "execution_count": 285,
   "metadata": {},
   "outputs": [
    {
     "data": {
      "text/html": [
       "<div>\n",
       "<style scoped>\n",
       "    .dataframe tbody tr th:only-of-type {\n",
       "        vertical-align: middle;\n",
       "    }\n",
       "\n",
       "    .dataframe tbody tr th {\n",
       "        vertical-align: top;\n",
       "    }\n",
       "\n",
       "    .dataframe thead th {\n",
       "        text-align: right;\n",
       "    }\n",
       "</style>\n",
       "<table border=\"1\" class=\"dataframe\">\n",
       "  <thead>\n",
       "    <tr style=\"text-align: right;\">\n",
       "      <th></th>\n",
       "      <th>location</th>\n",
       "      <th>variants</th>\n",
       "      <th>density2021</th>\n",
       "      <th>vaccination_rate</th>\n",
       "    </tr>\n",
       "  </thead>\n",
       "  <tbody>\n",
       "    <tr>\n",
       "      <th>0</th>\n",
       "      <td>Argentina</td>\n",
       "      <td>4.5</td>\n",
       "      <td>0.060966</td>\n",
       "      <td>0.629060</td>\n",
       "    </tr>\n",
       "    <tr>\n",
       "      <th>1</th>\n",
       "      <td>Aruba</td>\n",
       "      <td>1.5</td>\n",
       "      <td>0.001679</td>\n",
       "      <td>0.745849</td>\n",
       "    </tr>\n",
       "    <tr>\n",
       "      <th>2</th>\n",
       "      <td>Australia</td>\n",
       "      <td>2.0</td>\n",
       "      <td>0.298277</td>\n",
       "      <td>0.550100</td>\n",
       "    </tr>\n",
       "    <tr>\n",
       "      <th>3</th>\n",
       "      <td>Austria</td>\n",
       "      <td>2.0</td>\n",
       "      <td>0.009275</td>\n",
       "      <td>0.621353</td>\n",
       "    </tr>\n",
       "    <tr>\n",
       "      <th>4</th>\n",
       "      <td>Bahrain</td>\n",
       "      <td>1.0</td>\n",
       "      <td>0.000438</td>\n",
       "      <td>0.658950</td>\n",
       "    </tr>\n",
       "    <tr>\n",
       "      <th>...</th>\n",
       "      <td>...</td>\n",
       "      <td>...</td>\n",
       "      <td>...</td>\n",
       "      <td>...</td>\n",
       "    </tr>\n",
       "    <tr>\n",
       "      <th>62</th>\n",
       "      <td>Turkey</td>\n",
       "      <td>1.5</td>\n",
       "      <td>0.009214</td>\n",
       "      <td>0.604235</td>\n",
       "    </tr>\n",
       "    <tr>\n",
       "      <th>63</th>\n",
       "      <td>Ukraine</td>\n",
       "      <td>1.0</td>\n",
       "      <td>0.013884</td>\n",
       "      <td>0.146478</td>\n",
       "    </tr>\n",
       "    <tr>\n",
       "      <th>64</th>\n",
       "      <td>United Kingdom</td>\n",
       "      <td>2.5</td>\n",
       "      <td>0.003561</td>\n",
       "      <td>0.710319</td>\n",
       "    </tr>\n",
       "    <tr>\n",
       "      <th>65</th>\n",
       "      <td>United States</td>\n",
       "      <td>6.5</td>\n",
       "      <td>0.028153</td>\n",
       "      <td>0.632318</td>\n",
       "    </tr>\n",
       "    <tr>\n",
       "      <th>66</th>\n",
       "      <td>Vietnam</td>\n",
       "      <td>1.0</td>\n",
       "      <td>0.003374</td>\n",
       "      <td>0.242028</td>\n",
       "    </tr>\n",
       "  </tbody>\n",
       "</table>\n",
       "<p>67 rows × 4 columns</p>\n",
       "</div>"
      ],
      "text/plain": [
       "          location  variants  density2021  vaccination_rate\n",
       "0        Argentina       4.5     0.060966          0.629060\n",
       "1            Aruba       1.5     0.001679          0.745849\n",
       "2        Australia       2.0     0.298277          0.550100\n",
       "3          Austria       2.0     0.009275          0.621353\n",
       "4          Bahrain       1.0     0.000438          0.658950\n",
       "..             ...       ...          ...               ...\n",
       "62          Turkey       1.5     0.009214          0.604235\n",
       "63         Ukraine       1.0     0.013884          0.146478\n",
       "64  United Kingdom       2.5     0.003561          0.710319\n",
       "65   United States       6.5     0.028153          0.632318\n",
       "66         Vietnam       1.0     0.003374          0.242028\n",
       "\n",
       "[67 rows x 4 columns]"
      ]
     },
     "execution_count": 285,
     "metadata": {},
     "output_type": "execute_result"
    }
   ],
   "source": [
    "# Finally, this is my finished dataframe that I'll be working with. \n",
    "# This final dataframe is the average number of variants and average vaccination rates for every country, for the month of September.\n",
    "september = sep_variants_vaccines_populations.groupby(['location'], as_index=False).agg({'variants': np.mean, 'density2021': np.mean, 'vaccination_rate': np.mean})\n",
    "september"
   ]
  },
  {
   "cell_type": "markdown",
   "metadata": {},
   "source": [
    "Finally, I've gotten all of the data I care about into one, easy to read dataframe, `september`."
   ]
  },
  {
   "cell_type": "markdown",
   "metadata": {},
   "source": [
    "# In countries with low vaccination rates, should we expect to see a higher occurrence of COVID-19 variants?\n",
    "\n",
    "### Performing some initial exploratory data analysis"
   ]
  },
  {
   "cell_type": "code",
   "execution_count": 261,
   "metadata": {},
   "outputs": [
    {
     "data": {
      "text/plain": [
       "count    65.000000\n",
       "mean      0.535961\n",
       "std       0.215324\n",
       "min       0.013060\n",
       "25%       0.404601\n",
       "50%       0.604372\n",
       "75%       0.695352\n",
       "max       0.869343\n",
       "Name: vaccination_rate, dtype: float64"
      ]
     },
     "execution_count": 261,
     "metadata": {},
     "output_type": "execute_result"
    }
   ],
   "source": [
    "# Getting the 5-number summary for the vaccination rates for all countries\n",
    "september[\"vaccination_rate\"].describe()"
   ]
  },
  {
   "cell_type": "code",
   "execution_count": 278,
   "metadata": {},
   "outputs": [
    {
     "data": {
      "image/png": "[encoded data removed]",
      "text/plain": [
       "<Figure size 864x144 with 1 Axes>"
      ]
     },
     "metadata": {
      "needs_background": "light"
     },
     "output_type": "display_data"
    }
   ],
   "source": [
    "plt.figure(figsize=(12, 2))\n",
    "sns.boxplot(x='vaccination_rate', data=september);\n",
    "plt.xlabel(\"Vaccination Rates\")\n",
    "plt.title(\"5-Number Summaries of Vaccination Rates for September\", fontsize=24);"
   ]
  },
  {
   "cell_type": "markdown",
   "metadata": {},
   "source": [
    "<br><br>"
   ]
  },
  {
   "cell_type": "code",
   "execution_count": 264,
   "metadata": {},
   "outputs": [
    {
     "data": {
      "text/plain": [
       "count    67.000000\n",
       "mean      2.485075\n",
       "std       1.602484\n",
       "min       1.000000\n",
       "25%       1.000000\n",
       "50%       2.000000\n",
       "75%       3.250000\n",
       "max       7.000000\n",
       "Name: variants, dtype: float64"
      ]
     },
     "execution_count": 264,
     "metadata": {},
     "output_type": "execute_result"
    }
   ],
   "source": [
    "# Getting the 5-number summary for the number of variants in all of the countries\n",
    "september['variants'].describe()"
   ]
  },
  {
   "cell_type": "code",
   "execution_count": 277,
   "metadata": {},
   "outputs": [
    {
     "data": {
      "image/png": "[encoded data removed]",
      "text/plain": [
       "<Figure size 864x144 with 1 Axes>"
      ]
     },
     "metadata": {
      "needs_background": "light"
     },
     "output_type": "display_data"
    }
   ],
   "source": [
    "plt.figure(figsize=(12, 2))\n",
    "sns.boxplot(x='variants', data=september);\n",
    "plt.xlabel(\"Vaccination Rates\")\n",
    "plt.title(\"5-Number Summaries of Variants in September\", fontsize=24);"
   ]
  },
  {
   "cell_type": "markdown",
   "metadata": {},
   "source": [
    "<br><br>"
   ]
  },
  {
   "cell_type": "code",
   "execution_count": 273,
   "metadata": {},
   "outputs": [
    {
     "data": {
      "image/png": "[encoded data removed]",
      "text/plain": [
       "<Figure size 864x576 with 1 Axes>"
      ]
     },
     "metadata": {
      "needs_background": "light"
     },
     "output_type": "display_data"
    }
   ],
   "source": [
    "plt.figure(figsize=(12, 8))\n",
    "sns.boxplot(x='variants', y='vaccination_rate', data=september);\n",
    "plt.xlabel(\"Number Of Variants Detected\")\n",
    "plt.ylabel(\"Vaccination Rates\")\n",
    "plt.title(\"5-Number Summaries of Vaccination RatesFor Every Number of Variants Detected\", fontsize=24);"
   ]
  },
  {
   "cell_type": "markdown",
   "metadata": {},
   "source": [
    "<span style=\"color:blue\">Doing some initial visualization to see if regression would be a good fit for this data.</span>"
   ]
  },
  {
   "cell_type": "code",
   "execution_count": 279,
   "metadata": {},
   "outputs": [
    {
     "data": {
      "image/png": "[encoded data removed]",
      "text/plain": [
       "<Figure size 576x576 with 1 Axes>"
      ]
     },
     "metadata": {
      "needs_background": "light"
     },
     "output_type": "display_data"
    }
   ],
   "source": [
    "sns.lmplot(x='vaccination_rate', y='variants', data=september, fit_reg=True, y_jitter=.5, height=8)\n",
    "plt.title(\"Variants vs. Vaccination Rates\", fontsize=24);\n",
    "plt.xlabel(\"Daily Vaccination as Percentage of Population\");"
   ]
  },
  {
   "cell_type": "markdown",
   "metadata": {},
   "source": [
    "<br><br>"
   ]
  },
  {
   "cell_type": "markdown",
   "metadata": {},
   "source": [
    "<br><br>\n",
    "\n",
    "Based on this initial exploratory data analysis, I think there could be a possible linear relationship between the number of variants and any given country's vaccination rates. It will be interesting to see how strong that correlation might be."
   ]
  },
  {
   "cell_type": "markdown",
   "metadata": {},
   "source": [
    "<br><br>"
   ]
  },
  {
   "cell_type": "markdown",
   "metadata": {},
   "source": [
    "<br><br><br>\n",
    "___________"
   ]
  },
  {
   "cell_type": "markdown",
   "metadata": {},
   "source": [
    "# Are the numbers of variants present in a population independent of population density?\n",
    "\n",
    "In other words, does population density have some kind of an effect on the number of variants that we might see in a population? \n",
    "\n",
    "### Initial Exploratory Data Analysis"
   ]
  },
  {
   "cell_type": "code",
   "execution_count": 288,
   "metadata": {},
   "outputs": [
    {
     "data": {
      "text/html": [
       "<div>\n",
       "<style scoped>\n",
       "    .dataframe tbody tr th:only-of-type {\n",
       "        vertical-align: middle;\n",
       "    }\n",
       "\n",
       "    .dataframe tbody tr th {\n",
       "        vertical-align: top;\n",
       "    }\n",
       "\n",
       "    .dataframe thead th {\n",
       "        text-align: right;\n",
       "    }\n",
       "</style>\n",
       "<table border=\"1\" class=\"dataframe\">\n",
       "  <thead>\n",
       "    <tr style=\"text-align: right;\">\n",
       "      <th></th>\n",
       "      <th>location</th>\n",
       "      <th>date</th>\n",
       "      <th>variants</th>\n",
       "    </tr>\n",
       "  </thead>\n",
       "  <tbody>\n",
       "    <tr>\n",
       "      <th>525</th>\n",
       "      <td>Denmark</td>\n",
       "      <td>2020-11-09</td>\n",
       "      <td>7</td>\n",
       "    </tr>\n",
       "    <tr>\n",
       "      <th>397</th>\n",
       "      <td>Chile</td>\n",
       "      <td>2021-07-26</td>\n",
       "      <td>6</td>\n",
       "    </tr>\n",
       "  </tbody>\n",
       "</table>\n",
       "</div>"
      ],
      "text/plain": [
       "    location        date  variants\n",
       "525  Denmark  2020-11-09         7\n",
       "397    Chile  2021-07-26         6"
      ]
     },
     "metadata": {},
     "output_type": "display_data"
    },
    {
     "data": {
      "text/html": [
       "<div>\n",
       "<style scoped>\n",
       "    .dataframe tbody tr th:only-of-type {\n",
       "        vertical-align: middle;\n",
       "    }\n",
       "\n",
       "    .dataframe tbody tr th {\n",
       "        vertical-align: top;\n",
       "    }\n",
       "\n",
       "    .dataframe thead th {\n",
       "        text-align: right;\n",
       "    }\n",
       "</style>\n",
       "<table border=\"1\" class=\"dataframe\">\n",
       "  <thead>\n",
       "    <tr style=\"text-align: right;\">\n",
       "      <th></th>\n",
       "      <th>name</th>\n",
       "      <th>pop2021</th>\n",
       "      <th>area</th>\n",
       "      <th>density2021</th>\n",
       "    </tr>\n",
       "  </thead>\n",
       "  <tbody>\n",
       "    <tr>\n",
       "      <th>2</th>\n",
       "      <td>United States</td>\n",
       "      <td>332915073.0</td>\n",
       "      <td>9372610</td>\n",
       "      <td>0.028153</td>\n",
       "    </tr>\n",
       "    <tr>\n",
       "      <th>90</th>\n",
       "      <td>Sweden</td>\n",
       "      <td>10160169.0</td>\n",
       "      <td>450295</td>\n",
       "      <td>0.044320</td>\n",
       "    </tr>\n",
       "  </tbody>\n",
       "</table>\n",
       "</div>"
      ],
      "text/plain": [
       "             name      pop2021     area  density2021\n",
       "2   United States  332915073.0  9372610     0.028153\n",
       "90         Sweden   10160169.0   450295     0.044320"
      ]
     },
     "metadata": {},
     "output_type": "display_data"
    }
   ],
   "source": [
    "display(variants_cleaned.sample(2), population_params.sample(2))"
   ]
  },
  {
   "cell_type": "code",
   "execution_count": 291,
   "metadata": {},
   "outputs": [
    {
     "data": {
      "text/html": [
       "<div>\n",
       "<style scoped>\n",
       "    .dataframe tbody tr th:only-of-type {\n",
       "        vertical-align: middle;\n",
       "    }\n",
       "\n",
       "    .dataframe tbody tr th {\n",
       "        vertical-align: top;\n",
       "    }\n",
       "\n",
       "    .dataframe thead th {\n",
       "        text-align: right;\n",
       "    }\n",
       "</style>\n",
       "<table border=\"1\" class=\"dataframe\">\n",
       "  <thead>\n",
       "    <tr style=\"text-align: right;\">\n",
       "      <th></th>\n",
       "      <th>location</th>\n",
       "      <th>date</th>\n",
       "      <th>variants</th>\n",
       "      <th>density2021</th>\n",
       "    </tr>\n",
       "  </thead>\n",
       "  <tbody>\n",
       "    <tr>\n",
       "      <th>0</th>\n",
       "      <td>Angola</td>\n",
       "      <td>2020-12-21</td>\n",
       "      <td>3</td>\n",
       "      <td>0.036739</td>\n",
       "    </tr>\n",
       "    <tr>\n",
       "      <th>1</th>\n",
       "      <td>Angola</td>\n",
       "      <td>2021-01-25</td>\n",
       "      <td>6</td>\n",
       "      <td>0.036739</td>\n",
       "    </tr>\n",
       "    <tr>\n",
       "      <th>2</th>\n",
       "      <td>Angola</td>\n",
       "      <td>2021-02-08</td>\n",
       "      <td>4</td>\n",
       "      <td>0.036739</td>\n",
       "    </tr>\n",
       "    <tr>\n",
       "      <th>3</th>\n",
       "      <td>Angola</td>\n",
       "      <td>2021-02-22</td>\n",
       "      <td>5</td>\n",
       "      <td>0.036739</td>\n",
       "    </tr>\n",
       "    <tr>\n",
       "      <th>4</th>\n",
       "      <td>Angola</td>\n",
       "      <td>2021-03-08</td>\n",
       "      <td>4</td>\n",
       "      <td>0.036739</td>\n",
       "    </tr>\n",
       "    <tr>\n",
       "      <th>...</th>\n",
       "      <td>...</td>\n",
       "      <td>...</td>\n",
       "      <td>...</td>\n",
       "      <td>...</td>\n",
       "    </tr>\n",
       "    <tr>\n",
       "      <th>2249</th>\n",
       "      <td>Zimbabwe</td>\n",
       "      <td>2021-01-11</td>\n",
       "      <td>2</td>\n",
       "      <td>0.025891</td>\n",
       "    </tr>\n",
       "    <tr>\n",
       "      <th>2250</th>\n",
       "      <td>Zimbabwe</td>\n",
       "      <td>2021-01-25</td>\n",
       "      <td>2</td>\n",
       "      <td>0.025891</td>\n",
       "    </tr>\n",
       "    <tr>\n",
       "      <th>2251</th>\n",
       "      <td>Zimbabwe</td>\n",
       "      <td>2021-02-08</td>\n",
       "      <td>1</td>\n",
       "      <td>0.025891</td>\n",
       "    </tr>\n",
       "    <tr>\n",
       "      <th>2252</th>\n",
       "      <td>Zimbabwe</td>\n",
       "      <td>2021-07-12</td>\n",
       "      <td>1</td>\n",
       "      <td>0.025891</td>\n",
       "    </tr>\n",
       "    <tr>\n",
       "      <th>2253</th>\n",
       "      <td>Zimbabwe</td>\n",
       "      <td>2021-07-26</td>\n",
       "      <td>1</td>\n",
       "      <td>0.025891</td>\n",
       "    </tr>\n",
       "  </tbody>\n",
       "</table>\n",
       "<p>2254 rows × 4 columns</p>\n",
       "</div>"
      ],
      "text/plain": [
       "      location        date  variants  density2021\n",
       "0       Angola  2020-12-21         3     0.036739\n",
       "1       Angola  2021-01-25         6     0.036739\n",
       "2       Angola  2021-02-08         4     0.036739\n",
       "3       Angola  2021-02-22         5     0.036739\n",
       "4       Angola  2021-03-08         4     0.036739\n",
       "...        ...         ...       ...          ...\n",
       "2249  Zimbabwe  2021-01-11         2     0.025891\n",
       "2250  Zimbabwe  2021-01-25         2     0.025891\n",
       "2251  Zimbabwe  2021-02-08         1     0.025891\n",
       "2252  Zimbabwe  2021-07-12         1     0.025891\n",
       "2253  Zimbabwe  2021-07-26         1     0.025891\n",
       "\n",
       "[2254 rows x 4 columns]"
      ]
     },
     "execution_count": 291,
     "metadata": {},
     "output_type": "execute_result"
    }
   ],
   "source": [
    "# Creating one new master dataframe from which to pull all of my variant and density data\n",
    "variant_density = pd.merge(variants_cleaned, population_params, how='left', left_on='location', right_on='name').filter(['location', 'date', 'variants', 'density2021'])\n",
    "variant_density"
   ]
  },
  {
   "cell_type": "code",
   "execution_count": 292,
   "metadata": {},
   "outputs": [
    {
     "data": {
      "text/plain": [
       "count    2254.000000\n",
       "mean        4.288376\n",
       "std         3.164702\n",
       "min         1.000000\n",
       "25%         2.000000\n",
       "50%         4.000000\n",
       "75%         6.000000\n",
       "max        16.000000\n",
       "Name: variants, dtype: float64"
      ]
     },
     "execution_count": 292,
     "metadata": {},
     "output_type": "execute_result"
    }
   ],
   "source": [
    "variant_density['variants'].describe()"
   ]
  },
  {
   "cell_type": "code",
   "execution_count": 324,
   "metadata": {},
   "outputs": [
    {
     "data": {
      "image/png": "[encoded data removed]",
      "text/plain": [
       "<Figure size 864x144 with 1 Axes>"
      ]
     },
     "metadata": {
      "needs_background": "light"
     },
     "output_type": "display_data"
    }
   ],
   "source": [
    "plt.figure(figsize=(12, 2))\n",
    "sns.boxplot(x='variants', whis=[0, 100], data=variant_density);\n",
    "plt.xlabel(\"Variants\")\n",
    "plt.title(\"5-Number Summaries of Quantities of Variants in All Countries\", fontsize=24);\n",
    "plt.xticks(variant_density['variants'].describe()[3:9], rotation=90);"
   ]
  },
  {
   "cell_type": "code",
   "execution_count": 313,
   "metadata": {},
   "outputs": [
    {
     "data": {
      "text/plain": [
       "count    2206.000000\n",
       "mean        0.034042\n",
       "std         0.067090\n",
       "min         0.000120\n",
       "25%         0.004084\n",
       "50%         0.009753\n",
       "75%         0.028153\n",
       "max         0.299983\n",
       "Name: density2021, dtype: float64"
      ]
     },
     "execution_count": 313,
     "metadata": {},
     "output_type": "execute_result"
    }
   ],
   "source": [
    "variant_density['density2021'].describe()"
   ]
  },
  {
   "cell_type": "code",
   "execution_count": 325,
   "metadata": {},
   "outputs": [
    {
     "data": {
      "image/png": "[encoded data removed]",
      "text/plain": [
       "<Figure size 1728x144 with 1 Axes>"
      ]
     },
     "metadata": {
      "needs_background": "light"
     },
     "output_type": "display_data"
    }
   ],
   "source": [
    "plt.figure(figsize=(24, 2))\n",
    "sns.boxplot(x='density2021', whis=[0, 100], data=variant_density);\n",
    "plt.xlabel(\"Variants\")\n",
    "plt.title(\"5-Number Summary of Population Densities for All Countries\", fontsize=24);\n",
    "plt.xticks(variant_density['density2021'].describe()[3:9], rotation=90);"
   ]
  },
  {
   "cell_type": "code",
   "execution_count": 311,
   "metadata": {},
   "outputs": [
    {
     "data": {
      "image/png": "[encoded data removed]",
      "text/plain": [
       "<Figure size 432x432 with 3 Axes>"
      ]
     },
     "metadata": {
      "needs_background": "light"
     },
     "output_type": "display_data"
    }
   ],
   "source": [
    "p = sns.jointplot(x='density2021', y='variants', data=variant_density, kind='kde', fill=True, cmap='Blues');\n",
    "p.fig.suptitle(\"Gaussian Kernel Density Estimate\\nVariants vs. Population Densities\")\n",
    "p.ax_joint.collections[0].set_alpha(0)\n",
    "p.fig.tight_layout()\n",
    "p.fig.subplots_adjust(top=0.95) # Reduce plot to make room \n"
   ]
  },
  {
   "cell_type": "code",
   "execution_count": null,
   "metadata": {},
   "outputs": [],
   "source": []
  }
 ],
 "metadata": {
  "kernelspec": {
   "display_name": "Python 3",
   "language": "python",
   "name": "python3"
  },
  "language_info": {
   "codemirror_mode": {
    "name": "ipython",
    "version": 3
   },
   "file_extension": ".py",
   "mimetype": "text/x-python",
   "name": "python",
   "nbconvert_exporter": "python",
   "pygments_lexer": "ipython3",
   "version": "3.8.5"
  }
 },
 "nbformat": 4,
 "nbformat_minor": 4
}
